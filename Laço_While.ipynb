{
  "nbformat": 4,
  "nbformat_minor": 0,
  "metadata": {
    "colab": {
      "provenance": [],
      "authorship_tag": "ABX9TyPon9Oxms2A1P22/I/UuXD1"
    },
    "kernelspec": {
      "name": "python3",
      "display_name": "Python 3"
    },
    "language_info": {
      "name": "python"
    }
  },
  "cells": [
    {
      "cell_type": "code",
      "execution_count": 1,
      "metadata": {
        "colab": {
          "base_uri": "https://localhost:8080/"
        },
        "id": "GFBYN8t1pelN",
        "outputId": "23181908-03a1-423b-ab59-ef9a94777631"
      },
      "outputs": [
        {
          "output_type": "stream",
          "name": "stdout",
          "text": [
            "Entre com uma palavra: \n",
            " oi\n",
            "Digite sair para encerrar o laço: \n",
            "tudo bem\n",
            "Digite sair para encerrar o laço: \n",
            "sair\n",
            "Você digitou sair e agora está fora do laço\n"
          ]
        }
      ],
      "source": [
        "palavra = input('Entre com uma palavra: \\n ')\n",
        "while palavra != 'sair':#será repetida enquanto a condição for verdadeira, ou seja, enquanto o valor da variável palavra for diferente de ‘sair’.\n",
        "#Quando esses valores forem iguais, a condição do laço while será falsa e o laço, encerrado;\n",
        "    palavra = input('Digite sair para encerrar o laço: \\n')\n",
        "print('Você digitou sair e agora está fora do laço')"
      ]
    }
  ]
}