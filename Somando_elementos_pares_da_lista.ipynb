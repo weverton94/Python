{
  "nbformat": 4,
  "nbformat_minor": 0,
  "metadata": {
    "colab": {
      "provenance": [],
      "authorship_tag": "ABX9TyOvUPVpxsgLT9+Qu4nCH2RN"
    },
    "kernelspec": {
      "name": "python3",
      "display_name": "Python 3"
    },
    "language_info": {
      "name": "python"
    }
  },
  "cells": [
    {
      "cell_type": "code",
      "execution_count": null,
      "metadata": {
        "id": "m3VdAoohR4pw"
      },
      "outputs": [],
      "source": [
        "lista = [10, 2, 5, 7, 6, 3]\n",
        "n=len(lista)#len: traz o comprimento da lista, a quantidade.\n",
        "soma=0\n",
        "for i in range(n):#varrer a lista com o for em um intervalo range(n).\n",
        "  if(lista[i]%2==0):#pega os elementos da lista\n",
        "    soma=soma+lista[i]\n",
        "print(f\"O somatório dos elementos pares da lista é: {soma}\")"
      ]
    }
  ]
}