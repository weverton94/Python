{
  "nbformat": 4,
  "nbformat_minor": 0,
  "metadata": {
    "colab": {
      "provenance": [],
      "authorship_tag": "ABX9TyMBo+zXXKQLqUp+sCdB+arg"
    },
    "kernelspec": {
      "name": "python3",
      "display_name": "Python 3"
    },
    "language_info": {
      "name": "python"
    }
  },
  "cells": [
    {
      "cell_type": "code",
      "execution_count": 1,
      "metadata": {
        "colab": {
          "base_uri": "https://localhost:8080/"
        },
        "id": "rY_L5c9Ixh0c",
        "outputId": "2461431a-aab3-41a4-e7c2-814ad36f8628"
      },
      "outputs": [
        {
          "output_type": "stream",
          "name": "stdout",
          "text": [
            "1\n",
            "3\n",
            "5\n",
            "7\n",
            "9\n",
            "Laço encerrado\n"
          ]
        }
      ],
      "source": [
        "for num in range(1, 11):\n",
        "    if num % 2 == 0:\n",
        "        pass # Ela pulará o que estiver dentro do if (o que for verdadeiro) e executará o que for falso.\n",
        "        # No exemplo foi pedido para imprimir os números ímpares dentro do range de 1 a 10.\n",
        "        #No if foi especificado que os números divididos por 2 que tivessem o resto 0 fossem \"pulados\" (função 'pass').\n",
        "    else:\n",
        "        print(num)\n",
        "print('Laço encerrado')"
      ]
    }
  ]
}