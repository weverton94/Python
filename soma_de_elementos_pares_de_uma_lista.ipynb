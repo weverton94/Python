{
  "nbformat": 4,
  "nbformat_minor": 0,
  "metadata": {
    "colab": {
      "provenance": [],
      "authorship_tag": "ABX9TyPZyScRvlIAYtk1VkjlLE0s"
    },
    "kernelspec": {
      "name": "python3",
      "display_name": "Python 3"
    },
    "language_info": {
      "name": "python"
    }
  },
  "cells": [
    {
      "cell_type": "code",
      "execution_count": 1,
      "metadata": {
        "colab": {
          "base_uri": "https://localhost:8080/"
        },
        "id": "bFTMejOK6bdf",
        "outputId": "326dbaa0-c848-4a0c-8c5b-c618c1e8d450"
      },
      "outputs": [
        {
          "output_type": "stream",
          "name": "stdout",
          "text": [
            "O somatório dos elementos pares da lista é: 18\n"
          ]
        }
      ],
      "source": [
        "def ehPar(n):\n",
        "  r = (n%2==0)\n",
        "  return r\n",
        "\n",
        "def somar_par(lst):\n",
        "   soma=0\n",
        "   for num in lst:\n",
        "    if (ehPar(num)):\n",
        "      soma=soma+num\n",
        "   return soma\n",
        "\n",
        "lista = [10,2,5,7,6,3]\n",
        "soma=somar_par(lista)\n",
        "print(f\"O somatório dos elementos pares da lista é: {soma}\")"
      ]
    }
  ]
}