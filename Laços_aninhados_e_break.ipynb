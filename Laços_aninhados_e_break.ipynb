{
  "nbformat": 4,
  "nbformat_minor": 0,
  "metadata": {
    "colab": {
      "provenance": [],
      "authorship_tag": "ABX9TyPJBUy4Pq6g9D5r8YZlueHG"
    },
    "kernelspec": {
      "name": "python3",
      "display_name": "Python 3"
    },
    "language_info": {
      "name": "python"
    }
  },
  "cells": [
    {
      "cell_type": "code",
      "execution_count": 1,
      "metadata": {
        "colab": {
          "base_uri": "https://localhost:8080/"
        },
        "id": "nm9wm0dfs7B_",
        "outputId": "9768307c-b6e2-4842-a3f8-df29c2096774"
      },
      "outputs": [
        {
          "output_type": "stream",
          "name": "stdout",
          "text": [
            "Você está no primeiro laço.\n",
            "Deseja sair dele? Digite SIM para isso. \n",
            "Não\n",
            "Você está no segundo laço.\n",
            "Deseja sair dele? Digite SIM para isso. \n",
            "Não\n",
            "Você está no segundo laço.\n",
            "Deseja sair dele? Digite SIM para isso. \n",
            "sim\n",
            "Você está no segundo laço.\n",
            "Deseja sair dele? Digite SIM para isso. \n",
            "SIM\n",
            "Você saiu do segundo laço.\n",
            "Você está no primeiro laço.\n",
            "Deseja sair dele? Digite SIM para isso. \n",
            "SIM\n",
            "Você saiu do primeiro laço\n"
          ]
        }
      ],
      "source": [
        "while True:\n",
        "    print('Você está no primeiro laço.')\n",
        "    opcao1 = input('Deseja sair dele? Digite SIM para isso. \\n')\n",
        "    if opcao1 == 'SIM':\n",
        "        break  # este break é do primeiro laço\n",
        "    else:\n",
        "        while True:\n",
        "            print('Você está no segundo laço.')\n",
        "            opcao2 = input('Deseja sair dele? Digite SIM para isso. \\n')\n",
        "            if opcao2 == 'SIM':\n",
        "                break  # este break é do segundo laço\n",
        "        print('Você saiu do segundo laço.')\n",
        "print('Você saiu do primeiro laço')"
      ]
    }
  ]
}