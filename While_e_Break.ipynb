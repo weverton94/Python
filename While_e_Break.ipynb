{
  "nbformat": 4,
  "nbformat_minor": 0,
  "metadata": {
    "colab": {
      "provenance": [],
      "authorship_tag": "ABX9TyO2itP1N12LuQy4pcmu+YPf"
    },
    "kernelspec": {
      "name": "python3",
      "display_name": "Python 3"
    },
    "language_info": {
      "name": "python"
    }
  },
  "cells": [
    {
      "cell_type": "code",
      "execution_count": 1,
      "metadata": {
        "colab": {
          "base_uri": "https://localhost:8080/"
        },
        "id": "6DOTX45Or2RH",
        "outputId": "70de92c8-63d4-407d-f6d9-d6d68251e5dc"
      },
      "outputs": [
        {
          "output_type": "stream",
          "name": "stdout",
          "text": [
            "Entre com uma palavra: \n",
            "oi\n",
            "Entre com uma palavra: \n",
            "Tudo bem?\n",
            "Entre com uma palavra: \n",
            "tchau\n",
            "Entre com uma palavra: \n",
            "sair\n",
            "Você digitou sair e agora está fora do laço\n"
          ]
        }
      ],
      "source": [
        "while True:\n",
        "    palavra = input('Entre com uma palavra: \\n')\n",
        "    if palavra == 'sair':#Quando a palavra digitada for \"sair\", executará o break.\n",
        "        break\n",
        "print('Você digitou sair e agora está fora do laço')"
      ]
    }
  ]
}