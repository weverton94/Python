{
  "nbformat": 4,
  "nbformat_minor": 0,
  "metadata": {
    "colab": {
      "provenance": [],
      "authorship_tag": "ABX9TyOPrHRI36fmjDG8SuwyNoTO"
    },
    "kernelspec": {
      "name": "python3",
      "display_name": "Python 3"
    },
    "language_info": {
      "name": "python"
    }
  },
  "cells": [
    {
      "cell_type": "code",
      "execution_count": 13,
      "metadata": {
        "colab": {
          "base_uri": "https://localhost:8080/"
        },
        "id": "6Jdwk_AKD1Iq",
        "outputId": "9f79395e-7975-4533-a9b7-10cfbcf3630d"
      },
      "outputs": [
        {
          "output_type": "stream",
          "name": "stdout",
          "text": [
            "Digite a quantidade que vai comprar: 11\n",
            "O valor final da compra é: 99.0\n"
          ]
        }
      ],
      "source": [
        "preco_unitario = 10\n",
        "DESCONTO10 = 0.1\n",
        "DESCONTO20 = 0.2\n",
        "quantidade = eval(input(\"Digite a quantidade que vai comprar: \"))\n",
        "\n",
        "if(quantidade <= 10):\n",
        "  valor_final = preco_unitario*quantidade\n",
        "elif(UnVendida <= 20):\n",
        "  valor_final = preco_unitario*quantidade*(1-DESCONTO10)\n",
        "else:\n",
        "  valor_final = preco_unitario*quantidade*(1-DESCONTO20)\n",
        "\n",
        "print(f\"O valor final da compra é: {valor_final}\")"
      ]
    }
  ]
}