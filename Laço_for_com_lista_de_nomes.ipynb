{
  "nbformat": 4,
  "nbformat_minor": 0,
  "metadata": {
    "colab": {
      "provenance": [],
      "authorship_tag": "ABX9TyOm4v1Mg4QrrOD6uleKvQmf"
    },
    "kernelspec": {
      "name": "python3",
      "display_name": "Python 3"
    },
    "language_info": {
      "name": "python"
    }
  },
  "cells": [
    {
      "cell_type": "code",
      "execution_count": 1,
      "metadata": {
        "colab": {
          "base_uri": "https://localhost:8080/"
        },
        "id": "hzCpruh_mz4h",
        "outputId": "58a69b4c-8ec0-440f-bb62-ca3a7002d169"
      },
      "outputs": [
        {
          "output_type": "stream",
          "name": "stdout",
          "text": [
            "Laura\n",
            "Lis\n",
            "Guilherme\n",
            "Enzo\n",
            "Arthur\n"
          ]
        }
      ],
      "source": [
        "nomes = ['Laura', 'Lis', 'Guilherme', 'Enzo', 'Arthur']\n",
        "for nome in nomes:\n",
        "    print(nome)"
      ]
    }
  ]
}