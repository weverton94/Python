{
  "nbformat": 4,
  "nbformat_minor": 0,
  "metadata": {
    "colab": {
      "provenance": [],
      "authorship_tag": "ABX9TyP8Mwmc5fK+wIOnuNudYHmX"
    },
    "kernelspec": {
      "name": "python3",
      "display_name": "Python 3"
    },
    "language_info": {
      "name": "python"
    }
  },
  "cells": [
    {
      "cell_type": "code",
      "execution_count": null,
      "metadata": {
        "id": "Ge9HqjfcnquC"
      },
      "outputs": [],
      "source": [
        "for item in range(2, 9, 3):# O \"2\" informa onde começará a sequência; O \"9\" informa onde acabará, exclusive ele (o tirando);\n",
        "#O \"3\" informa o passo (como será incrementado de um termo para o outro).\n",
        "    print(item)"
      ]
    }
  ]
}