{
  "nbformat": 4,
  "nbformat_minor": 0,
  "metadata": {
    "colab": {
      "provenance": [],
      "authorship_tag": "ABX9TyMZc3d4p4EbyMtV6LReYJWc"
    },
    "kernelspec": {
      "name": "python3",
      "display_name": "Python 3"
    },
    "language_info": {
      "name": "python"
    }
  },
  "cells": [
    {
      "cell_type": "code",
      "execution_count": 3,
      "metadata": {
        "colab": {
          "base_uri": "https://localhost:8080/"
        },
        "id": "X9_9wRNy8XBL",
        "outputId": "0f8f78c4-67da-4080-8528-df6a55a77469"
      },
      "outputs": [
        {
          "output_type": "stream",
          "name": "stdout",
          "text": [
            "Coloque a nota do aluno de 0 a 10: 6.5\n",
            "Estudante em recuperação.\n"
          ]
        }
      ],
      "source": [
        "nota = float(input(\"Coloque a nota do aluno de 0 a 10: \"))\n",
        "if(nota>=7.0):\n",
        "  print(\"Estudante aprovado!\")\n",
        "elif(nota>=5.0):\n",
        "  print(\"Estudante em recuperação.\")\n",
        "\n",
        "else:\n",
        "  print(\"Estudante reprovado.\")"
      ]
    }
  ]
}