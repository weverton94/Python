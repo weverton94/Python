{
  "nbformat": 4,
  "nbformat_minor": 0,
  "metadata": {
    "colab": {
      "provenance": [],
      "authorship_tag": "ABX9TyP05/v5fU3ikrhivOOg6+r6"
    },
    "kernelspec": {
      "name": "python3",
      "display_name": "Python 3"
    },
    "language_info": {
      "name": "python"
    }
  },
  "cells": [
    {
      "cell_type": "code",
      "execution_count": 1,
      "metadata": {
        "colab": {
          "base_uri": "https://localhost:8080/"
        },
        "id": "RUPhgjhBulef",
        "outputId": "631692b8-6fe9-4950-b0a4-bca98e020ec7"
      },
      "outputs": [
        {
          "output_type": "stream",
          "name": "stdout",
          "text": [
            "1\n",
            "2\n",
            "3\n",
            "4\n",
            "6\n",
            "7\n",
            "8\n",
            "9\n",
            "10\n",
            "Laço encerrado\n"
          ]
        }
      ],
      "source": [
        "for num in range(1, 11):\n",
        "    if num == 5:\n",
        "        continue # Será pulado o número \"5\",na lista de 1 a 10 feita com o range.\n",
        "        #Se fosse colocado o break no lugar do continue ele finalizaria a leitura no \"4\".\n",
        "    else:\n",
        "        print(num)\n",
        "print('Laço encerrado')"
      ]
    }
  ]
}