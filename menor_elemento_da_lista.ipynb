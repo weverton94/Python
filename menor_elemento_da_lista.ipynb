{
  "nbformat": 4,
  "nbformat_minor": 0,
  "metadata": {
    "colab": {
      "provenance": [],
      "authorship_tag": "ABX9TyOK8AF1gEv3lB1NQIHS2JJd"
    },
    "kernelspec": {
      "name": "python3",
      "display_name": "Python 3"
    },
    "language_info": {
      "name": "python"
    }
  },
  "cells": [
    {
      "cell_type": "code",
      "execution_count": 1,
      "metadata": {
        "colab": {
          "base_uri": "https://localhost:8080/"
        },
        "id": "wx-5rWkM15Qn",
        "outputId": "d9bbc394-7af3-4888-b88a-0a1f1f95c69d"
      },
      "outputs": [
        {
          "output_type": "stream",
          "name": "stdout",
          "text": [
            "O menor elemento da lista é:[1]\n"
          ]
        }
      ],
      "source": [
        "def encontrar_minimo(lista):\n",
        "  minimo = lista[0]\n",
        "  for elem in lista:\n",
        "    if(elem < minimo):\n",
        "      minimo = elem\n",
        "  return minimo\n",
        "\n",
        "lista_teste = [2,10,3,1,4,5]\n",
        "menor = encontrar_minimo(lista_teste)\n",
        "print(\"O menor elemento da lista é:[{}]\".format(menor))"
      ]
    }
  ]
}