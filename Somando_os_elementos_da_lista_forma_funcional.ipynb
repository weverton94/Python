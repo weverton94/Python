{
  "nbformat": 4,
  "nbformat_minor": 0,
  "metadata": {
    "colab": {
      "provenance": [],
      "authorship_tag": "ABX9TyN8p3EGscqqfVGm77m5P/v8"
    },
    "kernelspec": {
      "name": "python3",
      "display_name": "Python 3"
    },
    "language_info": {
      "name": "python"
    }
  },
  "cells": [
    {
      "cell_type": "code",
      "execution_count": null,
      "metadata": {
        "id": "nKo7IciCWIya"
      },
      "outputs": [],
      "source": [
        "lista = [10, 2, 5, 7, 6, 3]\n",
        "\n",
        "soma=0\n",
        "for nun in lista:#varrer a lista com o for na lista.\n",
        "  if(num%2==0):#pega os elementos da lista\n",
        "    soma=soma+num\n",
        "print(f\"O somatório dos elementos pares da lista é: {soma}\")"
      ]
    }
  ]
}