{
  "nbformat": 4,
  "nbformat_minor": 0,
  "metadata": {
    "colab": {
      "provenance": [],
      "authorship_tag": "ABX9TyO5U6c93KfA+HpUMyT6Q6RX"
    },
    "kernelspec": {
      "name": "python3",
      "display_name": "Python 3"
    },
    "language_info": {
      "name": "python"
    }
  },
  "cells": [
    {
      "cell_type": "code",
      "execution_count": 6,
      "metadata": {
        "colab": {
          "base_uri": "https://localhost:8080/"
        },
        "id": "USvxk1K01Gan",
        "outputId": "0830c466-4b0c-43e4-ba8c-94c9b45b3c16"
      },
      "outputs": [
        {
          "output_type": "stream",
          "name": "stdout",
          "text": [
            "Insira um número: 12\n",
            "O número é par.\n"
          ]
        }
      ],
      "source": [
        "num = int(input(\"Insira um número: \"))\n",
        "\n",
        "if (num % 2) == 0:\n",
        "  print(\"O número é par.\")\n",
        "else:\n",
        "  print(\"O número é ímpar.\")"
      ]
    }
  ]
}